{
 "cells": [
  {
   "cell_type": "markdown",
   "metadata": {},
   "source": [
    "# Optimise the neural network"
   ]
  },
  {
   "cell_type": "code",
   "execution_count": 1,
   "metadata": {},
   "outputs": [],
   "source": [
    "# import build-in\n",
    "import numpy as np\n",
    "\n",
    "# import local\n",
    "import utility_classification as ut_cla\n",
    "import labels_create_ENSO as labels"
   ]
  },
  {
   "cell_type": "code",
   "execution_count": 2,
   "metadata": {},
   "outputs": [],
   "source": [
    "#set up path to the data\n",
    "path = '/home/nicola/Documents/classification_clean/data/regions/'\n",
    "\n",
    "#create dictionary with all input data\n",
    "dict_data_struc ={\n",
    "        1:{'filename' : 'ERSSTv3b.nc_regrid.nc_detrended.nc_deseason.nc_nino3W.nc',\n",
    "           'crop' : 42,\n",
    "           'firstmon' :10},\n",
    "        2:{'filename' : 'ERSSTv3b.nc_regrid.nc_detrended.nc_deseason.nc_nino3E.nc',\n",
    "           'crop' : 42,\n",
    "           'firstmon' :10},\n",
    "        3:{'filename' : 'ERSSTv3b.nc_regrid.nc_detrended.nc_deseason.nc_nino4W.nc',\n",
    "           'crop' : 42,\n",
    "           'firstmon' :10},\n",
    "        4:{'filename' : 'ERSSTv3b.nc_regrid.nc_detrended.nc_deseason.nc_nino4E.nc',\n",
    "           'crop' : 42,\n",
    "           'firstmon' :10},\n",
    "        5:{'filename' : 'ERSSTv3b.nc_regrid.nc_detrended.nc_deseason.nc_nino12.nc',\n",
    "           'crop' : 42,\n",
    "           'firstmon' :10},\n",
    "        6:{'filename' : 'ERSSTv4.nc_regrid.nc_detrended.nc_deseason.nc_nino3W.nc',\n",
    "           'crop' :42,\n",
    "           'firstmon' :10},\n",
    "        7:{'filename' : 'ERSSTv4.nc_regrid.nc_detrended.nc_deseason.nc_nino3E.nc',\n",
    "           'crop' : 42,\n",
    "           'firstmon' :10},\n",
    "        8:{'filename' : 'ERSSTv4.nc_regrid.nc_detrended.nc_deseason.nc_nino4W.nc',\n",
    "           'crop' : 42,\n",
    "           'firstmon' :10},\n",
    "        9:{'filename' : 'ERSSTv4.nc_regrid.nc_detrended.nc_deseason.nc_nino4E.nc',\n",
    "           'crop' : 42,\n",
    "           'firstmon' :10},\n",
    "        10:{'filename' : 'ERSSTv4.nc_regrid.nc_detrended.nc_deseason.nc_nino12.nc',\n",
    "           'crop' : 42,\n",
    "           'firstmon' :10}, \n",
    "        11:{'filename' : 'ERSSTv5.nc_regrid.nc_detrended.nc_deseason.nc_nino3W.nc',\n",
    "           'crop' : 42,\n",
    "           'firstmon' :10},\n",
    "        12:{'filename' : 'ERSSTv5.nc_regrid.nc_detrended.nc_deseason.nc_nino3E.nc',\n",
    "           'crop' : 42,\n",
    "           'firstmon' :10},\n",
    "        13:{'filename' : 'ERSSTv5.nc_regrid.nc_detrended.nc_deseason.nc_nino4W.nc',\n",
    "           'crop' : 42,\n",
    "           'firstmon' :10},\n",
    "        14:{'filename' : 'ERSSTv5.nc_regrid.nc_detrended.nc_deseason.nc_nino4E.nc',\n",
    "           'crop' : 42,\n",
    "           'firstmon' :10},\n",
    "        15:{'filename' : 'ERSSTv5.nc_regrid.nc_detrended.nc_deseason.nc_nino12.nc',\n",
    "           'crop' : 42,\n",
    "           'firstmon' :10}, \n",
    "        16:{'filename' : 'COBESST2.nc_regrid.nc_detrended.nc_deseason.nc_nino3W.nc',\n",
    "           'crop' : 46,\n",
    "           'firstmon' :10},\n",
    "        17:{'filename' : 'COBESST2.nc_regrid.nc_detrended.nc_deseason.nc_nino3E.nc',\n",
    "           'crop' : 46,\n",
    "           'firstmon' :10},\n",
    "        18:{'filename' : 'COBESST2.nc_regrid.nc_detrended.nc_deseason.nc_nino4W.nc',\n",
    "           'crop' : 46,\n",
    "           'firstmon' :10},\n",
    "        19:{'filename' : 'COBESST2.nc_regrid.nc_detrended.nc_deseason.nc_nino4E.nc',\n",
    "           'crop' : 46,\n",
    "           'firstmon' :10},\n",
    "        20:{'filename' : 'COBESST2.nc_regrid.nc_detrended.nc_deseason.nc_nino12.nc',\n",
    "           'crop' : 46,\n",
    "           'firstmon' :10}, \n",
    "        21:{'filename' : 'COBEv1.nc_regrid.nc_detrended.nc_deseason.nc_nino3W.nc',\n",
    "           'crop' : 5,\n",
    "           'firstmon' :10},\n",
    "        22:{'filename' : 'COBEv1.nc_regrid.nc_detrended.nc_deseason.nc_nino3E.nc',\n",
    "           'crop' : 5,\n",
    "           'firstmon' :10},\n",
    "        23:{'filename' : 'COBEv1.nc_regrid.nc_detrended.nc_deseason.nc_nino4W.nc',\n",
    "           'crop' : 5,\n",
    "           'firstmon' :10},\n",
    "        24:{'filename' : 'COBEv1.nc_regrid.nc_detrended.nc_deseason.nc_nino4E.nc',\n",
    "           'crop' : 5,\n",
    "           'firstmon' :10},\n",
    "        25:{'filename' : 'COBEv1.nc_regrid.nc_detrended.nc_deseason.nc_nino12.nc',\n",
    "           'crop' : 5,\n",
    "           'firstmon' :10},       \n",
    "        26:{'filename' : 'GODAS_1980_2020_processed.nc_regrid.nc_detrended.nc_deseason.nc_nino3W.nc',\n",
    "           'crop' : 0,\n",
    "           'firstmon' :10},\n",
    "        27:{'filename' : 'GODAS_1980_2020_processed.nc_regrid.nc_detrended.nc_deseason.nc_nino3E.nc',\n",
    "           'crop' : 0,\n",
    "           'firstmon' :10},\n",
    "        28:{'filename' : 'GODAS_1980_2020_processed.nc_regrid.nc_detrended.nc_deseason.nc_nino4W.nc',\n",
    "           'crop' : 0,\n",
    "           'firstmon' :10},\n",
    "        29:{'filename' : 'GODAS_1980_2020_processed.nc_regrid.nc_detrended.nc_deseason.nc_nino4E.nc',\n",
    "           'crop' : 0,\n",
    "           'firstmon' :10},\n",
    "        30:{'filename' : 'GODAS_1980_2020_processed.nc_regrid.nc_detrended.nc_deseason.nc_nino12.nc',\n",
    "           'crop' : 0,\n",
    "           'firstmon' :10},\n",
    "        31:{'filename' : 'kaplan_sst.nc_regrid.nc_detrended.nc_deseason.nc_nino3W.nc',\n",
    "           'crop' : 40,\n",
    "           'firstmon' :10},\n",
    "        32:{'filename' : 'kaplan_sst.nc_regrid.nc_detrended.nc_deseason.nc_nino3E.nc',\n",
    "           'crop' : 40,\n",
    "           'firstmon' :10},\n",
    "        33:{'filename' : 'kaplan_sst.nc_regrid.nc_detrended.nc_deseason.nc_nino4W.nc',\n",
    "           'crop' : 40,\n",
    "           'firstmon' :10},\n",
    "        34:{'filename' : 'kaplan_sst.nc_regrid.nc_detrended.nc_deseason.nc_nino4E.nc',\n",
    "           'crop' : 40,\n",
    "           'firstmon' :10},\n",
    "        35:{'filename' : 'kaplan_sst.nc_regrid.nc_detrended.nc_deseason.nc_nino12.nc',\n",
    "           'crop' : 40,\n",
    "           'firstmon' :10},\n",
    "        36:{'filename' : 'GECCO2_processed2.nc_regrid.nc_detrended.nc_deseason.nc_nino3W.nc',\n",
    "           'crop' : 0,\n",
    "           'firstmon' :10},\n",
    "        37:{'filename' : 'GECCO2_processed2.nc_regrid.nc_detrended.nc_deseason.nc_nino3E.nc',\n",
    "           'crop' : 0,\n",
    "           'firstmon' :10},\n",
    "        38:{'filename' : 'GECCO2_processed2.nc_regrid.nc_detrended.nc_deseason.nc_nino4W.nc',\n",
    "           'crop' : 0,\n",
    "           'firstmon' :10},\n",
    "        39:{'filename' : 'GECCO2_processed2.nc_regrid.nc_detrended.nc_deseason.nc_nino4E.nc',\n",
    "           'crop' : 0,\n",
    "           'firstmon' :10},\n",
    "        40:{'filename' : 'GECCO2_processed2.nc_regrid.nc_detrended.nc_deseason.nc_nino12.nc',\n",
    "           'crop' : 0,\n",
    "           'firstmon' :10},\n",
    "        41:{'filename' : 'oisst-avhrr-v02r01__sst__monthly__UHAM-ICDC_198109_202004.nc_regrid.nc_detrended.nc_deseason.nc_nino3W.nc',\n",
    "           'crop' : 0,\n",
    "           'firstmon' :2},\n",
    "        42:{'filename' : 'oisst-avhrr-v02r01__sst__monthly__UHAM-ICDC_198109_202004.nc_regrid.nc_detrended.nc_deseason.nc_nino3E.nc',\n",
    "           'crop' : 0,\n",
    "           'firstmon' :2},\n",
    "        43:{'filename' : 'oisst-avhrr-v02r01__sst__monthly__UHAM-ICDC_198109_202004.nc_regrid.nc_detrended.nc_deseason.nc_nino4W.nc',\n",
    "           'crop' : 0,\n",
    "           'firstmon' :2},\n",
    "        44:{'filename' : 'oisst-avhrr-v02r01__sst__monthly__UHAM-ICDC_198109_202004.nc_regrid.nc_detrended.nc_deseason.nc_nino4E.nc',\n",
    "           'crop' : 0,\n",
    "           'firstmon' :2},\n",
    "        45:{'filename' : 'oisst-avhrr-v02r01__sst__monthly__UHAM-ICDC_198109_202004.nc_regrid.nc_detrended.nc_deseason.nc_nino12.nc',\n",
    "           'crop' : 0,\n",
    "           'firstmon' :2},\n",
    "        46:{'filename' : 'ORAS4_processed2.nc_regrid.nc_detrended.nc_deseason.nc_nino3W.nc',\n",
    "           'crop' : 0,\n",
    "           'firstmon' :10},\n",
    "        47:{'filename' : 'ORAS4_processed2.nc_regrid.nc_detrended.nc_deseason.nc_nino3E.nc',\n",
    "           'crop' : 0,\n",
    "           'firstmon' :10},\n",
    "        48:{'filename' : 'ORAS4_processed2.nc_regrid.nc_detrended.nc_deseason.nc_nino4W.nc',\n",
    "           'crop' : 0,\n",
    "           'firstmon' :10},\n",
    "        49:{'filename' : 'ORAS4_processed2.nc_regrid.nc_detrended.nc_deseason.nc_nino4E.nc',\n",
    "           'crop' : 0,\n",
    "           'firstmon' :10},\n",
    "        50:{'filename' : 'ORAS4_processed2.nc_regrid.nc_detrended.nc_deseason.nc_nino12.nc',\n",
    "           'crop' : 0,\n",
    "           'firstmon' :10},\n",
    "        51:{'filename' : 'ORAs5_opa0_processed2.nc_regrid.nc_detrended.nc_deseason.nc_nino3W.nc',\n",
    "           'crop' : 0,\n",
    "           'firstmon' :10},\n",
    "        52:{'filename' : 'ORAs5_opa0_processed2.nc_regrid.nc_detrended.nc_deseason.nc_nino3E.nc',\n",
    "           'crop' : 0,\n",
    "           'firstmon' :10},\n",
    "        53:{'filename' : 'ORAs5_opa0_processed2.nc_regrid.nc_detrended.nc_deseason.nc_nino4W.nc',\n",
    "           'crop' : 0,\n",
    "           'firstmon' :10},\n",
    "        54:{'filename' : 'ORAs5_opa0_processed2.nc_regrid.nc_detrended.nc_deseason.nc_nino4E.nc',\n",
    "           'crop' : 0,\n",
    "           'firstmon' :10},\n",
    "        55:{'filename' : 'ORAs5_opa0_processed2.nc_regrid.nc_detrended.nc_deseason.nc_nino12.nc',\n",
    "           'crop' : 0,\n",
    "           'firstmon' :10},\n",
    "        56:{'filename' : 'ORAs5_opa1_processed2.nc_regrid.nc_detrended.nc_deseason.nc_nino3W.nc',\n",
    "           'crop' : 0,\n",
    "           'firstmon' :10},\n",
    "        57:{'filename' : 'ORAs5_opa1_processed2.nc_regrid.nc_detrended.nc_deseason.nc_nino3E.nc',\n",
    "           'crop' : 0,\n",
    "           'firstmon' :10},\n",
    "        58:{'filename' : 'ORAs5_opa1_processed2.nc_regrid.nc_detrended.nc_deseason.nc_nino4W.nc',\n",
    "           'crop' : 0,\n",
    "           'firstmon' :10},\n",
    "        59:{'filename' : 'ORAs5_opa1_processed2.nc_regrid.nc_detrended.nc_deseason.nc_nino4E.nc',\n",
    "           'crop' : 0,\n",
    "           'firstmon' :10},\n",
    "        60:{'filename' : 'ORAs5_opa1_processed2.nc_regrid.nc_detrended.nc_deseason.nc_nino12.nc',\n",
    "           'crop' : 0,\n",
    "           'firstmon' :10},\n",
    "        61:{'filename' : 'ORAs5_opa2_processed2.nc_regrid.nc_detrended.nc_deseason.nc_nino3W.nc',\n",
    "           'crop' : 0,\n",
    "           'firstmon' :10},\n",
    "        62:{'filename' : 'ORAs5_opa2_processed2.nc_regrid.nc_detrended.nc_deseason.nc_nino3E.nc',\n",
    "           'crop' : 0,\n",
    "           'firstmon' :10},\n",
    "        63:{'filename' : 'ORAs5_opa2_processed2.nc_regrid.nc_detrended.nc_deseason.nc_nino4W.nc',\n",
    "           'crop' : 0,\n",
    "           'firstmon' :10},\n",
    "        64:{'filename' : 'ORAs5_opa2_processed2.nc_regrid.nc_detrended.nc_deseason.nc_nino4E.nc',\n",
    "           'crop' : 0,\n",
    "           'firstmon' :10},\n",
    "        65:{'filename' : 'ORAs5_opa2_processed2.nc_regrid.nc_detrended.nc_deseason.nc_nino12.nc',\n",
    "           'crop' : 0,\n",
    "           'firstmon' :10},\n",
    "        66:{'filename' : 'ORAs5_opa3_processed2.nc_regrid.nc_detrended.nc_deseason.nc_nino3W.nc',\n",
    "           'crop' : 0,\n",
    "           'firstmon' :10},\n",
    "        67:{'filename' : 'ORAs5_opa3_processed2.nc_regrid.nc_detrended.nc_deseason.nc_nino3E.nc',\n",
    "           'crop' : 0,\n",
    "           'firstmon' :10},\n",
    "        68:{'filename' : 'ORAs5_opa3_processed2.nc_regrid.nc_detrended.nc_deseason.nc_nino4W.nc',\n",
    "           'crop' : 0,\n",
    "           'firstmon' :10},\n",
    "        69:{'filename' : 'ORAs5_opa3_processed2.nc_regrid.nc_detrended.nc_deseason.nc_nino4E.nc',\n",
    "           'crop' : 0,\n",
    "           'firstmon' :10},\n",
    "        70:{'filename' : 'ORAs5_opa3_processed2.nc_regrid.nc_detrended.nc_deseason.nc_nino12.nc',\n",
    "           'crop' : 0,\n",
    "           'firstmon' :10},\n",
    "        71:{'filename' : 'ORAs5_opa4_processed2.nc_regrid.nc_detrended.nc_deseason.nc_nino3W.nc',\n",
    "           'crop' : 0,\n",
    "           'firstmon' :10},\n",
    "        72:{'filename' : 'ORAs5_opa4_processed2.nc_regrid.nc_detrended.nc_deseason.nc_nino3E.nc',\n",
    "           'crop' : 0,\n",
    "           'firstmon' :10},\n",
    "        73:{'filename' : 'ORAs5_opa4_processed2.nc_regrid.nc_detrended.nc_deseason.nc_nino4W.nc',\n",
    "           'crop' : 0,\n",
    "           'firstmon' :10},\n",
    "        74:{'filename' : 'ORAs5_opa4_processed2.nc_regrid.nc_detrended.nc_deseason.nc_nino4E.nc',\n",
    "           'crop' : 0,\n",
    "           'firstmon' :10},\n",
    "        75:{'filename' : 'ORAs5_opa4_processed2.nc_regrid.nc_detrended.nc_deseason.nc_nino12.nc',\n",
    "           'crop' : 0,\n",
    "           'firstmon' :10},\n",
    "        76:{'filename' : 'soda3.11.2_1980_2015_processed3.nc_regrid.nc_detrended.nc_deseason.nc_nino3W.nc',\n",
    "           'crop' : 0,\n",
    "           'firstmon' :10},\n",
    "        77:{'filename' : 'soda3.11.2_1980_2015_processed3.nc_regrid.nc_detrended.nc_deseason.nc_nino3E.nc',\n",
    "           'crop' : 0,\n",
    "           'firstmon' :10},\n",
    "        78:{'filename' : 'soda3.11.2_1980_2015_processed3.nc_regrid.nc_detrended.nc_deseason.nc_nino4W.nc',\n",
    "           'crop' : 0,\n",
    "           'firstmon' :10},\n",
    "        79:{'filename' : 'soda3.11.2_1980_2015_processed3.nc_regrid.nc_detrended.nc_deseason.nc_nino4E.nc',\n",
    "           'crop' : 0,\n",
    "           'firstmon' :10},\n",
    "        80:{'filename' : 'soda3.11.2_1980_2015_processed3.nc_regrid.nc_detrended.nc_deseason.nc_nino12.nc',\n",
    "           'crop' : 0,\n",
    "           'firstmon' :10},\n",
    "        81:{'filename' : 'soda3.12.2_1980_2017_processed3.nc_regrid.nc_detrended.nc_deseason.nc_nino3W.nc',\n",
    "           'crop' : 0,\n",
    "           'firstmon' :10},\n",
    "        82:{'filename' : 'soda3.12.2_1980_2017_processed3.nc_regrid.nc_detrended.nc_deseason.nc_nino3E.nc',\n",
    "           'crop' : 0,\n",
    "           'firstmon' :10},\n",
    "        83:{'filename' : 'soda3.12.2_1980_2017_processed3.nc_regrid.nc_detrended.nc_deseason.nc_nino4W.nc',\n",
    "           'crop' : 0,\n",
    "           'firstmon' :10},\n",
    "        84:{'filename' : 'soda3.12.2_1980_2017_processed3.nc_regrid.nc_detrended.nc_deseason.nc_nino4E.nc',\n",
    "           'crop' : 0,\n",
    "           'firstmon' :10},\n",
    "        85:{'filename' : 'soda3.12.2_1980_2017_processed3.nc_regrid.nc_detrended.nc_deseason.nc_nino12.nc',\n",
    "           'crop' : 0,\n",
    "           'firstmon' :10},\n",
    "        86:{'filename' : 'soda3.4.2_1980_2018_processed3.nc_regrid.nc_detrended.nc_deseason.nc_nino3W.nc',\n",
    "           'crop' : 0,\n",
    "           'firstmon' :10},\n",
    "        87:{'filename' : 'soda3.4.2_1980_2018_processed3.nc_regrid.nc_detrended.nc_deseason.nc_nino3E.nc',\n",
    "           'crop' : 0,\n",
    "           'firstmon' :10},\n",
    "        88:{'filename' : 'soda3.4.2_1980_2018_processed3.nc_regrid.nc_detrended.nc_deseason.nc_nino4W.nc',\n",
    "           'crop' : 0,\n",
    "           'firstmon' :10},\n",
    "        89:{'filename' : 'soda3.4.2_1980_2018_processed3.nc_regrid.nc_detrended.nc_deseason.nc_nino4E.nc',\n",
    "           'crop' : 0,\n",
    "           'firstmon' :10},\n",
    "        90:{'filename' : 'soda3.4.2_1980_2018_processed3.nc_regrid.nc_detrended.nc_deseason.nc_nino12.nc',\n",
    "           'crop' : 0,\n",
    "           'firstmon' :10},\n",
    "        91:{'filename' : 'soda3.6.1_1980_2009_processed3.nc_regrid.nc_detrended.nc_deseason.nc_nino3W.nc',\n",
    "           'crop' : 0,\n",
    "           'firstmon' :10},\n",
    "        92:{'filename' : 'soda3.6.1_1980_2009_processed3.nc_regrid.nc_detrended.nc_deseason.nc_nino3E.nc',\n",
    "           'crop' : 0,\n",
    "           'firstmon' :10},\n",
    "        93:{'filename' : 'soda3.6.1_1980_2009_processed3.nc_regrid.nc_detrended.nc_deseason.nc_nino4W.nc',\n",
    "           'crop' : 0,\n",
    "           'firstmon' :10},\n",
    "        94:{'filename' : 'soda3.6.1_1980_2009_processed3.nc_regrid.nc_detrended.nc_deseason.nc_nino4E.nc',\n",
    "           'crop' : 0,\n",
    "           'firstmon' :10},\n",
    "        95:{'filename' : 'soda3.6.1_1980_2009_processed3.nc_regrid.nc_detrended.nc_deseason.nc_nino12.nc',\n",
    "           'crop' : 0,\n",
    "           'firstmon' :10},\n",
    "        96:{'filename' : 'soda3.7.2_1980_2016_processed3.nc_regrid.nc_detrended.nc_deseason.nc_nino3W.nc',\n",
    "           'crop' : 0,\n",
    "           'firstmon' :10},\n",
    "        97:{'filename' : 'soda3.7.2_1980_2016_processed3.nc_regrid.nc_detrended.nc_deseason.nc_nino3E.nc',\n",
    "           'crop' : 0,\n",
    "           'firstmon' :10},\n",
    "        98:{'filename' : 'soda3.7.2_1980_2016_processed3.nc_regrid.nc_detrended.nc_deseason.nc_nino4W.nc',\n",
    "           'crop' : 0,\n",
    "           'firstmon' :10},\n",
    "        99:{'filename' : 'soda3.7.2_1980_2016_processed3.nc_regrid.nc_detrended.nc_deseason.nc_nino4E.nc',\n",
    "           'crop' : 0,\n",
    "           'firstmon' :10},\n",
    "        100:{'filename' : 'soda3.7.2_1980_2016_processed3.nc_regrid.nc_detrended.nc_deseason.nc_nino12.nc',\n",
    "           'crop' : 0,\n",
    "           'firstmon' :10},\n",
    "        101:{'filename' : 'AMSRE_v07.nc_regrid.nc_detrended.nc_deseason.nc_nino3W.nc',\n",
    "           'crop' : 0,\n",
    "           'firstmon' :5},\n",
    "        102:{'filename' : 'AMSRE_v07.nc_regrid.nc_detrended.nc_deseason.nc_nino3E.nc',\n",
    "           'crop' : 0,\n",
    "           'firstmon' :5},\n",
    "        103:{'filename' : 'AMSRE_v07.nc_regrid.nc_detrended.nc_deseason.nc_nino4W.nc',\n",
    "           'crop' : 0,\n",
    "           'firstmon' :5},\n",
    "        104:{'filename' : 'AMSRE_v07.nc_regrid.nc_detrended.nc_deseason.nc_nino4E.nc',\n",
    "           'crop' : 0,\n",
    "           'firstmon' :5},\n",
    "        105:{'filename' : 'AMSRE_v07.nc_regrid.nc_detrended.nc_deseason.nc_nino12.nc',\n",
    "           'crop' : 0,\n",
    "           'firstmon' :5},\n",
    "        106:{'filename' : 'HadISST_sst.nc_regrid.nc_detrended.nc_deseason.nc_nino3W.nc',\n",
    "           'crop' : 26,\n",
    "           'firstmon' :10},\n",
    "        107:{'filename' : 'HadISST_sst.nc_regrid.nc_detrended.nc_deseason.nc_nino3E.nc',\n",
    "           'crop' : 26,\n",
    "           'firstmon' :10},\n",
    "        108:{'filename' : 'HadISST_sst.nc_regrid.nc_detrended.nc_deseason.nc_nino4W.nc',\n",
    "           'crop' : 26,\n",
    "           'firstmon' :10},\n",
    "        109:{'filename' : 'HadISST_sst.nc_regrid.nc_detrended.nc_deseason.nc_nino4E.nc',\n",
    "           'crop' : 26,\n",
    "           'firstmon' :10},\n",
    "        110:{'filename' : 'HadISST_sst.nc_regrid.nc_detrended.nc_deseason.nc_nino12.nc',\n",
    "           'crop' : 26,\n",
    "           'firstmon' :10}\n",
    "                 }"
   ]
  },
  {
   "cell_type": "code",
   "execution_count": 3,
   "metadata": {},
   "outputs": [],
   "source": [
    "#process all data\n",
    "result = ut_cla.preprocess_from_dict(dict_data_struc, path, verbose=False)"
   ]
  },
  {
   "cell_type": "code",
   "execution_count": 4,
   "metadata": {},
   "outputs": [],
   "source": [
    "# Concatenate \n",
    "def concat_features(result, keys, axis=0):\n",
    "    list_= [result[key] for key in keys]\n",
    "    return np.concatenate(list_,axis=axis)\n",
    "    \n",
    "keys=[1,6,11,16,21,26,31,36,41,46,51,56,61,66,71,76,81,86,91,96,101] # key to concatenate\n",
    "concat_N3W= concat_features(result, keys)\n",
    "\n",
    "keys=[2,7,12,17,22,27,32,37,42,47,52,57,62,67,72,77,82,87,92,97,102] # key to concatenate\n",
    "concat_N3E= concat_features(result, keys)\n",
    "\n",
    "keys=[3,8,13,18,23,28,33,38,43,48,53,58,63,68,73,78,83,88,93,98,103] # key to concatenate\n",
    "concat_N4W= concat_features(result, keys)\n",
    "\n",
    "keys=[4,9,14,19,24,29,34,39,44,49,54,59,64,69,74,79,84,89,94,99,104] # key to concatenate\n",
    "concat_N4E= concat_features(result, keys)\n",
    "\n",
    "keys=[5,10,15,20,25,30,35,40,45,50,55,60,65,70,75,80,85,90,95,100,105] # key to concatenate\n",
    "concat_N12= concat_features(result, keys)\n",
    "##\n",
    "\n",
    "input_train=np.concatenate([concat_N3W,concat_N3E,concat_N4W,concat_N4E,concat_N12],axis=1)\n",
    "\n",
    "keys=[106,107,108,109,110] # key to concatenate\n",
    "input_test= concat_features(result, keys, axis=1)"
   ]
  },
  {
   "cell_type": "code",
   "execution_count": 5,
   "metadata": {},
   "outputs": [],
   "source": [
    "#create labels\n",
    "labels_train,labels_test=labels.create_labels()"
   ]
  },
  {
   "cell_type": "code",
   "execution_count": 6,
   "metadata": {},
   "outputs": [],
   "source": [
    "#import the machine learning tools\n",
    "\n",
    "import numpy as np\n",
    "import matplotlib.pyplot as plt\n",
    "from matplotlib.colors import ListedColormap\n",
    "from sklearn.model_selection import train_test_split\n",
    "from sklearn.preprocessing import StandardScaler\n",
    "from sklearn.datasets import make_moons, make_circles, make_classification\n",
    "from sklearn.neural_network import MLPClassifier\n",
    "from sklearn.neighbors import KNeighborsClassifier\n",
    "from sklearn.svm import SVC\n",
    "from sklearn.gaussian_process import GaussianProcessClassifier\n",
    "from sklearn.gaussian_process.kernels import RBF\n",
    "from sklearn.tree import DecisionTreeClassifier\n",
    "from sklearn.ensemble import RandomForestClassifier, AdaBoostClassifier\n",
    "from sklearn.naive_bayes import GaussianNB\n",
    "from sklearn.discriminant_analysis import QuadraticDiscriminantAnalysis\n",
    "from sklearn.model_selection import cross_val_score\n",
    "import joblib\n",
    "from sklearn.metrics import accuracy_score\n",
    "from sklearn.metrics import precision_score"
   ]
  },
  {
   "cell_type": "code",
   "execution_count": 7,
   "metadata": {},
   "outputs": [],
   "source": [
    "# define classifiers name\n",
    "#names = [\"NearestNeighbors\", \"LinearSVM\", \"RBFSVM\",\"DecisionTree\", \"RandomForest\", \"NeuralNet\", \"AdaBoost\",\n",
    "        # \"NaiveBayes\", \"QDA\"]\n",
    "names = [\"NeuralNet\",\"lbfgs\",\"sgd\",\"default-adam\"]"
   ]
  },
  {
   "cell_type": "code",
   "execution_count": 8,
   "metadata": {},
   "outputs": [],
   "source": [
    "#Test the solver    \n",
    "    \n",
    "classifiers = [\n",
    "    MLPClassifier(alpha=1, max_iter=700),\n",
    "    MLPClassifier(solver='lbfgs', max_iter=700),\n",
    "    MLPClassifier(solver='sgd', max_iter=700),\n",
    "    MLPClassifier(solver='adam', max_iter=700)]\n",
    "   "
   ]
  },
  {
   "cell_type": "code",
   "execution_count": 9,
   "metadata": {},
   "outputs": [
    {
     "name": "stdout",
     "output_type": "stream",
     "text": [
      "NeuralNet\n",
      "0.8373983739837398\n",
      "NeuralNet 0.8724528301886793\n",
      "lbfgs\n",
      "0.8943089430894309\n",
      "lbfgs 0.8815094339622641\n",
      "sgd\n"
     ]
    },
    {
     "name": "stderr",
     "output_type": "stream",
     "text": [
      "/home/nicola/anaconda3/envs/classification/lib/python3.6/site-packages/sklearn/neural_network/_multilayer_perceptron.py:585: ConvergenceWarning: Stochastic Optimizer: Maximum iterations (700) reached and the optimization hasn't converged yet.\n",
      "  % self.max_iter, ConvergenceWarning)\n"
     ]
    },
    {
     "name": "stdout",
     "output_type": "stream",
     "text": [
      "0.8373983739837398\n"
     ]
    },
    {
     "name": "stderr",
     "output_type": "stream",
     "text": [
      "/home/nicola/anaconda3/envs/classification/lib/python3.6/site-packages/sklearn/neural_network/_multilayer_perceptron.py:585: ConvergenceWarning: Stochastic Optimizer: Maximum iterations (700) reached and the optimization hasn't converged yet.\n",
      "  % self.max_iter, ConvergenceWarning)\n",
      "/home/nicola/anaconda3/envs/classification/lib/python3.6/site-packages/sklearn/neural_network/_multilayer_perceptron.py:585: ConvergenceWarning: Stochastic Optimizer: Maximum iterations (700) reached and the optimization hasn't converged yet.\n",
      "  % self.max_iter, ConvergenceWarning)\n",
      "/home/nicola/anaconda3/envs/classification/lib/python3.6/site-packages/sklearn/neural_network/_multilayer_perceptron.py:585: ConvergenceWarning: Stochastic Optimizer: Maximum iterations (700) reached and the optimization hasn't converged yet.\n",
      "  % self.max_iter, ConvergenceWarning)\n",
      "/home/nicola/anaconda3/envs/classification/lib/python3.6/site-packages/sklearn/neural_network/_multilayer_perceptron.py:585: ConvergenceWarning: Stochastic Optimizer: Maximum iterations (700) reached and the optimization hasn't converged yet.\n",
      "  % self.max_iter, ConvergenceWarning)\n",
      "/home/nicola/anaconda3/envs/classification/lib/python3.6/site-packages/sklearn/neural_network/_multilayer_perceptron.py:585: ConvergenceWarning: Stochastic Optimizer: Maximum iterations (700) reached and the optimization hasn't converged yet.\n",
      "  % self.max_iter, ConvergenceWarning)\n"
     ]
    },
    {
     "name": "stdout",
     "output_type": "stream",
     "text": [
      "sgd 0.8369811320754718\n",
      "default-adam\n"
     ]
    },
    {
     "name": "stderr",
     "output_type": "stream",
     "text": [
      "/home/nicola/anaconda3/envs/classification/lib/python3.6/site-packages/sklearn/neural_network/_multilayer_perceptron.py:585: ConvergenceWarning: Stochastic Optimizer: Maximum iterations (700) reached and the optimization hasn't converged yet.\n",
      "  % self.max_iter, ConvergenceWarning)\n"
     ]
    },
    {
     "name": "stdout",
     "output_type": "stream",
     "text": [
      "0.9105691056910569\n"
     ]
    },
    {
     "name": "stderr",
     "output_type": "stream",
     "text": [
      "/home/nicola/anaconda3/envs/classification/lib/python3.6/site-packages/sklearn/neural_network/_multilayer_perceptron.py:585: ConvergenceWarning: Stochastic Optimizer: Maximum iterations (700) reached and the optimization hasn't converged yet.\n",
      "  % self.max_iter, ConvergenceWarning)\n",
      "/home/nicola/anaconda3/envs/classification/lib/python3.6/site-packages/sklearn/neural_network/_multilayer_perceptron.py:585: ConvergenceWarning: Stochastic Optimizer: Maximum iterations (700) reached and the optimization hasn't converged yet.\n",
      "  % self.max_iter, ConvergenceWarning)\n",
      "/home/nicola/anaconda3/envs/classification/lib/python3.6/site-packages/sklearn/neural_network/_multilayer_perceptron.py:585: ConvergenceWarning: Stochastic Optimizer: Maximum iterations (700) reached and the optimization hasn't converged yet.\n",
      "  % self.max_iter, ConvergenceWarning)\n",
      "/home/nicola/anaconda3/envs/classification/lib/python3.6/site-packages/sklearn/neural_network/_multilayer_perceptron.py:585: ConvergenceWarning: Stochastic Optimizer: Maximum iterations (700) reached and the optimization hasn't converged yet.\n",
      "  % self.max_iter, ConvergenceWarning)\n"
     ]
    },
    {
     "name": "stdout",
     "output_type": "stream",
     "text": [
      "default-adam 0.9033962264150943\n"
     ]
    },
    {
     "name": "stderr",
     "output_type": "stream",
     "text": [
      "/home/nicola/anaconda3/envs/classification/lib/python3.6/site-packages/sklearn/neural_network/_multilayer_perceptron.py:585: ConvergenceWarning: Stochastic Optimizer: Maximum iterations (700) reached and the optimization hasn't converged yet.\n",
      "  % self.max_iter, ConvergenceWarning)\n"
     ]
    }
   ],
   "source": [
    "for name, clf in zip(names, classifiers):\n",
    "    print(name)\n",
    "    #ax = plt.subplot(1, len(classifiers) + 1, i)\n",
    "    clf.fit(input_train, labels_train)\n",
    "    score = clf.score(input_test, labels_test)\n",
    "    print(score)\n",
    "    print(name, cross_val_score(clf, input_train, labels_train, cv=5).mean())\n"
   ]
  },
  {
   "cell_type": "code",
   "execution_count": 10,
   "metadata": {},
   "outputs": [],
   "source": [
    "# Test alpha value\n",
    "names = [\"10\",\"1\",\"0.1\",\"0.01\",\"0.001\",\"default\"]\n",
    "max_i=1500\n",
    "classifiers = [\n",
    "    MLPClassifier(alpha=10,max_iter=max_i),\n",
    "    MLPClassifier(alpha=1,max_iter=max_i),\n",
    "    MLPClassifier(alpha=0.1,max_iter=max_i),\n",
    "    MLPClassifier(alpha=0.01,max_iter=max_i),\n",
    "    MLPClassifier(alpha=0.001,max_iter=max_i),\n",
    "    MLPClassifier(max_iter=max_i)]\n",
    "   \n"
   ]
  },
  {
   "cell_type": "code",
   "execution_count": 11,
   "metadata": {},
   "outputs": [
    {
     "name": "stdout",
     "output_type": "stream",
     "text": [
      "10\n",
      "0.7967479674796748\n",
      "10 0.7607547169811321\n",
      "1\n",
      "0.8617886178861789\n",
      "1 0.879245283018868\n",
      "0.1\n",
      "0.926829268292683\n",
      "0.1 0.9086792452830188\n",
      "0.01\n",
      "0.9105691056910569\n",
      "0.01 0.9056603773584906\n",
      "0.001\n",
      "0.926829268292683\n",
      "0.001 0.9049056603773586\n",
      "default\n",
      "0.9024390243902439\n",
      "default 0.9003773584905661\n"
     ]
    }
   ],
   "source": [
    "for name, clf in zip(names, classifiers):\n",
    "    print(name)\n",
    "    #ax = plt.subplot(1, len(classifiers) + 1, i)\n",
    "    clf.fit(input_train, labels_train)\n",
    "    score = clf.score(input_test, labels_test)\n",
    "    print(score)\n",
    "    print(name, cross_val_score(clf, input_train, labels_train, cv=5).mean())"
   ]
  },
  {
   "cell_type": "code",
   "execution_count": 12,
   "metadata": {},
   "outputs": [],
   "source": [
    "# Test max it value\n",
    "names = [\"300\",\"400\",\"500\",\"900\",\"1000\",\"1500\",\"default\"]\n",
    "classifiers = [\n",
    "    MLPClassifier(max_iter=300),\n",
    "    MLPClassifier(max_iter=400),\n",
    "    MLPClassifier(max_iter=500),\n",
    "    MLPClassifier(max_iter=900),\n",
    "    MLPClassifier(max_iter=1000),\n",
    "    MLPClassifier(max_iter=1500),\n",
    "    MLPClassifier()\n",
    "]"
   ]
  },
  {
   "cell_type": "code",
   "execution_count": 13,
   "metadata": {},
   "outputs": [
    {
     "name": "stdout",
     "output_type": "stream",
     "text": [
      "300\n"
     ]
    },
    {
     "name": "stderr",
     "output_type": "stream",
     "text": [
      "/home/nicola/anaconda3/envs/classification/lib/python3.6/site-packages/sklearn/neural_network/_multilayer_perceptron.py:585: ConvergenceWarning: Stochastic Optimizer: Maximum iterations (300) reached and the optimization hasn't converged yet.\n",
      "  % self.max_iter, ConvergenceWarning)\n"
     ]
    },
    {
     "name": "stdout",
     "output_type": "stream",
     "text": [
      "0.8943089430894309\n"
     ]
    },
    {
     "name": "stderr",
     "output_type": "stream",
     "text": [
      "/home/nicola/anaconda3/envs/classification/lib/python3.6/site-packages/sklearn/neural_network/_multilayer_perceptron.py:585: ConvergenceWarning: Stochastic Optimizer: Maximum iterations (300) reached and the optimization hasn't converged yet.\n",
      "  % self.max_iter, ConvergenceWarning)\n",
      "/home/nicola/anaconda3/envs/classification/lib/python3.6/site-packages/sklearn/neural_network/_multilayer_perceptron.py:585: ConvergenceWarning: Stochastic Optimizer: Maximum iterations (300) reached and the optimization hasn't converged yet.\n",
      "  % self.max_iter, ConvergenceWarning)\n",
      "/home/nicola/anaconda3/envs/classification/lib/python3.6/site-packages/sklearn/neural_network/_multilayer_perceptron.py:585: ConvergenceWarning: Stochastic Optimizer: Maximum iterations (300) reached and the optimization hasn't converged yet.\n",
      "  % self.max_iter, ConvergenceWarning)\n",
      "/home/nicola/anaconda3/envs/classification/lib/python3.6/site-packages/sklearn/neural_network/_multilayer_perceptron.py:585: ConvergenceWarning: Stochastic Optimizer: Maximum iterations (300) reached and the optimization hasn't converged yet.\n",
      "  % self.max_iter, ConvergenceWarning)\n",
      "/home/nicola/anaconda3/envs/classification/lib/python3.6/site-packages/sklearn/neural_network/_multilayer_perceptron.py:585: ConvergenceWarning: Stochastic Optimizer: Maximum iterations (300) reached and the optimization hasn't converged yet.\n",
      "  % self.max_iter, ConvergenceWarning)\n"
     ]
    },
    {
     "name": "stdout",
     "output_type": "stream",
     "text": [
      "300 0.8920754716981133\n",
      "400\n"
     ]
    },
    {
     "name": "stderr",
     "output_type": "stream",
     "text": [
      "/home/nicola/anaconda3/envs/classification/lib/python3.6/site-packages/sklearn/neural_network/_multilayer_perceptron.py:585: ConvergenceWarning: Stochastic Optimizer: Maximum iterations (400) reached and the optimization hasn't converged yet.\n",
      "  % self.max_iter, ConvergenceWarning)\n"
     ]
    },
    {
     "name": "stdout",
     "output_type": "stream",
     "text": [
      "0.8861788617886179\n"
     ]
    },
    {
     "name": "stderr",
     "output_type": "stream",
     "text": [
      "/home/nicola/anaconda3/envs/classification/lib/python3.6/site-packages/sklearn/neural_network/_multilayer_perceptron.py:585: ConvergenceWarning: Stochastic Optimizer: Maximum iterations (400) reached and the optimization hasn't converged yet.\n",
      "  % self.max_iter, ConvergenceWarning)\n",
      "/home/nicola/anaconda3/envs/classification/lib/python3.6/site-packages/sklearn/neural_network/_multilayer_perceptron.py:585: ConvergenceWarning: Stochastic Optimizer: Maximum iterations (400) reached and the optimization hasn't converged yet.\n",
      "  % self.max_iter, ConvergenceWarning)\n",
      "/home/nicola/anaconda3/envs/classification/lib/python3.6/site-packages/sklearn/neural_network/_multilayer_perceptron.py:585: ConvergenceWarning: Stochastic Optimizer: Maximum iterations (400) reached and the optimization hasn't converged yet.\n",
      "  % self.max_iter, ConvergenceWarning)\n",
      "/home/nicola/anaconda3/envs/classification/lib/python3.6/site-packages/sklearn/neural_network/_multilayer_perceptron.py:585: ConvergenceWarning: Stochastic Optimizer: Maximum iterations (400) reached and the optimization hasn't converged yet.\n",
      "  % self.max_iter, ConvergenceWarning)\n",
      "/home/nicola/anaconda3/envs/classification/lib/python3.6/site-packages/sklearn/neural_network/_multilayer_perceptron.py:585: ConvergenceWarning: Stochastic Optimizer: Maximum iterations (400) reached and the optimization hasn't converged yet.\n",
      "  % self.max_iter, ConvergenceWarning)\n"
     ]
    },
    {
     "name": "stdout",
     "output_type": "stream",
     "text": [
      "400 0.8996226415094342\n",
      "500\n"
     ]
    },
    {
     "name": "stderr",
     "output_type": "stream",
     "text": [
      "/home/nicola/anaconda3/envs/classification/lib/python3.6/site-packages/sklearn/neural_network/_multilayer_perceptron.py:585: ConvergenceWarning: Stochastic Optimizer: Maximum iterations (500) reached and the optimization hasn't converged yet.\n",
      "  % self.max_iter, ConvergenceWarning)\n"
     ]
    },
    {
     "name": "stdout",
     "output_type": "stream",
     "text": [
      "0.9024390243902439\n"
     ]
    },
    {
     "name": "stderr",
     "output_type": "stream",
     "text": [
      "/home/nicola/anaconda3/envs/classification/lib/python3.6/site-packages/sklearn/neural_network/_multilayer_perceptron.py:585: ConvergenceWarning: Stochastic Optimizer: Maximum iterations (500) reached and the optimization hasn't converged yet.\n",
      "  % self.max_iter, ConvergenceWarning)\n",
      "/home/nicola/anaconda3/envs/classification/lib/python3.6/site-packages/sklearn/neural_network/_multilayer_perceptron.py:585: ConvergenceWarning: Stochastic Optimizer: Maximum iterations (500) reached and the optimization hasn't converged yet.\n",
      "  % self.max_iter, ConvergenceWarning)\n",
      "/home/nicola/anaconda3/envs/classification/lib/python3.6/site-packages/sklearn/neural_network/_multilayer_perceptron.py:585: ConvergenceWarning: Stochastic Optimizer: Maximum iterations (500) reached and the optimization hasn't converged yet.\n",
      "  % self.max_iter, ConvergenceWarning)\n",
      "/home/nicola/anaconda3/envs/classification/lib/python3.6/site-packages/sklearn/neural_network/_multilayer_perceptron.py:585: ConvergenceWarning: Stochastic Optimizer: Maximum iterations (500) reached and the optimization hasn't converged yet.\n",
      "  % self.max_iter, ConvergenceWarning)\n",
      "/home/nicola/anaconda3/envs/classification/lib/python3.6/site-packages/sklearn/neural_network/_multilayer_perceptron.py:585: ConvergenceWarning: Stochastic Optimizer: Maximum iterations (500) reached and the optimization hasn't converged yet.\n",
      "  % self.max_iter, ConvergenceWarning)\n"
     ]
    },
    {
     "name": "stdout",
     "output_type": "stream",
     "text": [
      "500 0.9011320754716982\n",
      "900\n",
      "0.9105691056910569\n"
     ]
    },
    {
     "name": "stderr",
     "output_type": "stream",
     "text": [
      "/home/nicola/anaconda3/envs/classification/lib/python3.6/site-packages/sklearn/neural_network/_multilayer_perceptron.py:585: ConvergenceWarning: Stochastic Optimizer: Maximum iterations (900) reached and the optimization hasn't converged yet.\n",
      "  % self.max_iter, ConvergenceWarning)\n",
      "/home/nicola/anaconda3/envs/classification/lib/python3.6/site-packages/sklearn/neural_network/_multilayer_perceptron.py:585: ConvergenceWarning: Stochastic Optimizer: Maximum iterations (900) reached and the optimization hasn't converged yet.\n",
      "  % self.max_iter, ConvergenceWarning)\n",
      "/home/nicola/anaconda3/envs/classification/lib/python3.6/site-packages/sklearn/neural_network/_multilayer_perceptron.py:585: ConvergenceWarning: Stochastic Optimizer: Maximum iterations (900) reached and the optimization hasn't converged yet.\n",
      "  % self.max_iter, ConvergenceWarning)\n"
     ]
    },
    {
     "name": "stdout",
     "output_type": "stream",
     "text": [
      "900 0.901132075471698\n",
      "1000\n",
      "0.8943089430894309\n",
      "1000 0.898867924528302\n",
      "1500\n",
      "0.8943089430894309\n",
      "1500 0.9041509433962265\n",
      "default\n"
     ]
    },
    {
     "name": "stderr",
     "output_type": "stream",
     "text": [
      "/home/nicola/anaconda3/envs/classification/lib/python3.6/site-packages/sklearn/neural_network/_multilayer_perceptron.py:585: ConvergenceWarning: Stochastic Optimizer: Maximum iterations (200) reached and the optimization hasn't converged yet.\n",
      "  % self.max_iter, ConvergenceWarning)\n"
     ]
    },
    {
     "name": "stdout",
     "output_type": "stream",
     "text": [
      "0.8617886178861789\n"
     ]
    },
    {
     "name": "stderr",
     "output_type": "stream",
     "text": [
      "/home/nicola/anaconda3/envs/classification/lib/python3.6/site-packages/sklearn/neural_network/_multilayer_perceptron.py:585: ConvergenceWarning: Stochastic Optimizer: Maximum iterations (200) reached and the optimization hasn't converged yet.\n",
      "  % self.max_iter, ConvergenceWarning)\n",
      "/home/nicola/anaconda3/envs/classification/lib/python3.6/site-packages/sklearn/neural_network/_multilayer_perceptron.py:585: ConvergenceWarning: Stochastic Optimizer: Maximum iterations (200) reached and the optimization hasn't converged yet.\n",
      "  % self.max_iter, ConvergenceWarning)\n",
      "/home/nicola/anaconda3/envs/classification/lib/python3.6/site-packages/sklearn/neural_network/_multilayer_perceptron.py:585: ConvergenceWarning: Stochastic Optimizer: Maximum iterations (200) reached and the optimization hasn't converged yet.\n",
      "  % self.max_iter, ConvergenceWarning)\n",
      "/home/nicola/anaconda3/envs/classification/lib/python3.6/site-packages/sklearn/neural_network/_multilayer_perceptron.py:585: ConvergenceWarning: Stochastic Optimizer: Maximum iterations (200) reached and the optimization hasn't converged yet.\n",
      "  % self.max_iter, ConvergenceWarning)\n"
     ]
    },
    {
     "name": "stdout",
     "output_type": "stream",
     "text": [
      "default 0.8898113207547169\n"
     ]
    },
    {
     "name": "stderr",
     "output_type": "stream",
     "text": [
      "/home/nicola/anaconda3/envs/classification/lib/python3.6/site-packages/sklearn/neural_network/_multilayer_perceptron.py:585: ConvergenceWarning: Stochastic Optimizer: Maximum iterations (200) reached and the optimization hasn't converged yet.\n",
      "  % self.max_iter, ConvergenceWarning)\n"
     ]
    }
   ],
   "source": [
    "for name, clf in zip(names, classifiers):\n",
    "    print(name)\n",
    "    #ax = plt.subplot(1, len(classifiers) + 1, i)\n",
    "    clf.fit(input_train, labels_train)\n",
    "    score = clf.score(input_test, labels_test)\n",
    "    print(score)\n",
    "    print(name, cross_val_score(clf, input_train, labels_train, cv=5).mean())"
   ]
  },
  {
   "cell_type": "code",
   "execution_count": 14,
   "metadata": {},
   "outputs": [],
   "source": [
    "# Test hidden layers\n",
    "names = [\"2\",\"10\",\"50\",\"200\",\"500\",\"1000\",\"default\"]\n",
    "classifiers = [\n",
    "    MLPClassifier(max_iter=900, hidden_layer_sizes=(2, )),\n",
    "    MLPClassifier(max_iter=900, hidden_layer_sizes=(10, )),\n",
    "    MLPClassifier(max_iter=900, hidden_layer_sizes=(50, )),\n",
    "    MLPClassifier(max_iter=900, hidden_layer_sizes=(200, )),\n",
    "    MLPClassifier(max_iter=900, hidden_layer_sizes=(500, )),\n",
    "    MLPClassifier(max_iter=900, hidden_layer_sizes=(1000, )),\n",
    "    MLPClassifier(max_iter=900)\n",
    "]"
   ]
  },
  {
   "cell_type": "code",
   "execution_count": 15,
   "metadata": {},
   "outputs": [
    {
     "name": "stdout",
     "output_type": "stream",
     "text": [
      "2\n"
     ]
    },
    {
     "name": "stderr",
     "output_type": "stream",
     "text": [
      "/home/nicola/anaconda3/envs/classification/lib/python3.6/site-packages/sklearn/neural_network/_multilayer_perceptron.py:585: ConvergenceWarning: Stochastic Optimizer: Maximum iterations (900) reached and the optimization hasn't converged yet.\n",
      "  % self.max_iter, ConvergenceWarning)\n"
     ]
    },
    {
     "name": "stdout",
     "output_type": "stream",
     "text": [
      "0.7804878048780488\n"
     ]
    },
    {
     "name": "stderr",
     "output_type": "stream",
     "text": [
      "/home/nicola/anaconda3/envs/classification/lib/python3.6/site-packages/sklearn/neural_network/_multilayer_perceptron.py:585: ConvergenceWarning: Stochastic Optimizer: Maximum iterations (900) reached and the optimization hasn't converged yet.\n",
      "  % self.max_iter, ConvergenceWarning)\n",
      "/home/nicola/anaconda3/envs/classification/lib/python3.6/site-packages/sklearn/neural_network/_multilayer_perceptron.py:585: ConvergenceWarning: Stochastic Optimizer: Maximum iterations (900) reached and the optimization hasn't converged yet.\n",
      "  % self.max_iter, ConvergenceWarning)\n",
      "/home/nicola/anaconda3/envs/classification/lib/python3.6/site-packages/sklearn/neural_network/_multilayer_perceptron.py:585: ConvergenceWarning: Stochastic Optimizer: Maximum iterations (900) reached and the optimization hasn't converged yet.\n",
      "  % self.max_iter, ConvergenceWarning)\n",
      "/home/nicola/anaconda3/envs/classification/lib/python3.6/site-packages/sklearn/neural_network/_multilayer_perceptron.py:585: ConvergenceWarning: Stochastic Optimizer: Maximum iterations (900) reached and the optimization hasn't converged yet.\n",
      "  % self.max_iter, ConvergenceWarning)\n",
      "/home/nicola/anaconda3/envs/classification/lib/python3.6/site-packages/sklearn/neural_network/_multilayer_perceptron.py:585: ConvergenceWarning: Stochastic Optimizer: Maximum iterations (900) reached and the optimization hasn't converged yet.\n",
      "  % self.max_iter, ConvergenceWarning)\n"
     ]
    },
    {
     "name": "stdout",
     "output_type": "stream",
     "text": [
      "2 0.7818867924528303\n",
      "10\n"
     ]
    },
    {
     "name": "stderr",
     "output_type": "stream",
     "text": [
      "/home/nicola/anaconda3/envs/classification/lib/python3.6/site-packages/sklearn/neural_network/_multilayer_perceptron.py:585: ConvergenceWarning: Stochastic Optimizer: Maximum iterations (900) reached and the optimization hasn't converged yet.\n",
      "  % self.max_iter, ConvergenceWarning)\n"
     ]
    },
    {
     "name": "stdout",
     "output_type": "stream",
     "text": [
      "0.8536585365853658\n"
     ]
    },
    {
     "name": "stderr",
     "output_type": "stream",
     "text": [
      "/home/nicola/anaconda3/envs/classification/lib/python3.6/site-packages/sklearn/neural_network/_multilayer_perceptron.py:585: ConvergenceWarning: Stochastic Optimizer: Maximum iterations (900) reached and the optimization hasn't converged yet.\n",
      "  % self.max_iter, ConvergenceWarning)\n",
      "/home/nicola/anaconda3/envs/classification/lib/python3.6/site-packages/sklearn/neural_network/_multilayer_perceptron.py:585: ConvergenceWarning: Stochastic Optimizer: Maximum iterations (900) reached and the optimization hasn't converged yet.\n",
      "  % self.max_iter, ConvergenceWarning)\n",
      "/home/nicola/anaconda3/envs/classification/lib/python3.6/site-packages/sklearn/neural_network/_multilayer_perceptron.py:585: ConvergenceWarning: Stochastic Optimizer: Maximum iterations (900) reached and the optimization hasn't converged yet.\n",
      "  % self.max_iter, ConvergenceWarning)\n",
      "/home/nicola/anaconda3/envs/classification/lib/python3.6/site-packages/sklearn/neural_network/_multilayer_perceptron.py:585: ConvergenceWarning: Stochastic Optimizer: Maximum iterations (900) reached and the optimization hasn't converged yet.\n",
      "  % self.max_iter, ConvergenceWarning)\n",
      "/home/nicola/anaconda3/envs/classification/lib/python3.6/site-packages/sklearn/neural_network/_multilayer_perceptron.py:585: ConvergenceWarning: Stochastic Optimizer: Maximum iterations (900) reached and the optimization hasn't converged yet.\n",
      "  % self.max_iter, ConvergenceWarning)\n"
     ]
    },
    {
     "name": "stdout",
     "output_type": "stream",
     "text": [
      "10 0.8603773584905661\n",
      "50\n"
     ]
    },
    {
     "name": "stderr",
     "output_type": "stream",
     "text": [
      "/home/nicola/anaconda3/envs/classification/lib/python3.6/site-packages/sklearn/neural_network/_multilayer_perceptron.py:585: ConvergenceWarning: Stochastic Optimizer: Maximum iterations (900) reached and the optimization hasn't converged yet.\n",
      "  % self.max_iter, ConvergenceWarning)\n"
     ]
    },
    {
     "name": "stdout",
     "output_type": "stream",
     "text": [
      "0.8780487804878049\n"
     ]
    },
    {
     "name": "stderr",
     "output_type": "stream",
     "text": [
      "/home/nicola/anaconda3/envs/classification/lib/python3.6/site-packages/sklearn/neural_network/_multilayer_perceptron.py:585: ConvergenceWarning: Stochastic Optimizer: Maximum iterations (900) reached and the optimization hasn't converged yet.\n",
      "  % self.max_iter, ConvergenceWarning)\n",
      "/home/nicola/anaconda3/envs/classification/lib/python3.6/site-packages/sklearn/neural_network/_multilayer_perceptron.py:585: ConvergenceWarning: Stochastic Optimizer: Maximum iterations (900) reached and the optimization hasn't converged yet.\n",
      "  % self.max_iter, ConvergenceWarning)\n",
      "/home/nicola/anaconda3/envs/classification/lib/python3.6/site-packages/sklearn/neural_network/_multilayer_perceptron.py:585: ConvergenceWarning: Stochastic Optimizer: Maximum iterations (900) reached and the optimization hasn't converged yet.\n",
      "  % self.max_iter, ConvergenceWarning)\n",
      "/home/nicola/anaconda3/envs/classification/lib/python3.6/site-packages/sklearn/neural_network/_multilayer_perceptron.py:585: ConvergenceWarning: Stochastic Optimizer: Maximum iterations (900) reached and the optimization hasn't converged yet.\n",
      "  % self.max_iter, ConvergenceWarning)\n",
      "/home/nicola/anaconda3/envs/classification/lib/python3.6/site-packages/sklearn/neural_network/_multilayer_perceptron.py:585: ConvergenceWarning: Stochastic Optimizer: Maximum iterations (900) reached and the optimization hasn't converged yet.\n",
      "  % self.max_iter, ConvergenceWarning)\n"
     ]
    },
    {
     "name": "stdout",
     "output_type": "stream",
     "text": [
      "50 0.9049056603773586\n",
      "200\n",
      "0.9105691056910569\n",
      "200 0.9101886792452831\n",
      "500\n",
      "0.926829268292683\n",
      "500 0.909433962264151\n",
      "1000\n",
      "0.9105691056910569\n",
      "1000 0.9079245283018867\n",
      "default\n",
      "0.9105691056910569\n"
     ]
    },
    {
     "name": "stderr",
     "output_type": "stream",
     "text": [
      "/home/nicola/anaconda3/envs/classification/lib/python3.6/site-packages/sklearn/neural_network/_multilayer_perceptron.py:585: ConvergenceWarning: Stochastic Optimizer: Maximum iterations (900) reached and the optimization hasn't converged yet.\n",
      "  % self.max_iter, ConvergenceWarning)\n",
      "/home/nicola/anaconda3/envs/classification/lib/python3.6/site-packages/sklearn/neural_network/_multilayer_perceptron.py:585: ConvergenceWarning: Stochastic Optimizer: Maximum iterations (900) reached and the optimization hasn't converged yet.\n",
      "  % self.max_iter, ConvergenceWarning)\n"
     ]
    },
    {
     "name": "stdout",
     "output_type": "stream",
     "text": [
      "default 0.8966037735849056\n"
     ]
    },
    {
     "name": "stderr",
     "output_type": "stream",
     "text": [
      "/home/nicola/anaconda3/envs/classification/lib/python3.6/site-packages/sklearn/neural_network/_multilayer_perceptron.py:585: ConvergenceWarning: Stochastic Optimizer: Maximum iterations (900) reached and the optimization hasn't converged yet.\n",
      "  % self.max_iter, ConvergenceWarning)\n"
     ]
    }
   ],
   "source": [
    "for name, clf in zip(names, classifiers):\n",
    "    print(name)\n",
    "    #ax = plt.subplot(1, len(classifiers) + 1, i)\n",
    "    clf.fit(input_train, labels_train)\n",
    "    score = clf.score(input_test, labels_test)\n",
    "    print(score)\n",
    "    print(name, cross_val_score(clf, input_train, labels_train, cv=5).mean())"
   ]
  },
  {
   "cell_type": "code",
   "execution_count": 16,
   "metadata": {},
   "outputs": [
    {
     "name": "stdout",
     "output_type": "stream",
     "text": [
      "0\n",
      "1\n",
      "2\n",
      "3\n",
      "4\n",
      "5\n",
      "6\n",
      "7\n",
      "8\n",
      "9\n",
      "neural net\n",
      "clf mean 0.9082264150943397\n",
      "clf max 0.9116981132075471\n",
      "clf min 0.9026415094339623\n",
      "acc mean 0.9170731707317072\n",
      "acc max 0.926829268292683\n",
      "acc min 0.9024390243902439\n",
      "CP mean 0.8769230769230768\n",
      "CP max 0.9230769230769231\n",
      "CP min 0.8571428571428571\n",
      "EL mean 0.9133634481460566\n",
      "EL max 0.9523809523809523\n",
      "EL min 0.8695652173913043\n",
      "LN mean 1.0\n",
      "LN max 1.0\n",
      "LN min 1.0\n",
      "NE mean 0.9029849473858331\n",
      "NE max 0.9117647058823529\n",
      "NE min 0.8955223880597015\n"
     ]
    }
   ],
   "source": [
    "#choose classifier to be \n",
    "\n",
    "# Test hidden layers\n",
    "names = [\"chosen classifier\"]\n",
    "classifiers = MLPClassifier(hidden_layer_sizes=(500, ), max_iter=900)\n",
    "\n",
    "#Neural Net scores\n",
    "\n",
    "a_score=[0 for i in range(10)]\n",
    "p_score_CP=[0 for i in range(10)]\n",
    "p_score_EL=[0 for i in range(10)]\n",
    "p_score_LN=[0 for i in range(10)]\n",
    "p_score_NE=[0 for i in range(10)]\n",
    "clf_score=[0 for i in range(10)]\n",
    "\n",
    "for x in range(0, 10):\n",
    "    print(x)\n",
    "\n",
    "    #choose classifier to be \n",
    "    clf=classifiers\n",
    "    clf.fit(input_train, labels_train)\n",
    "    pred=clf.predict(input_test)\n",
    "    a_score[x]=accuracy_score(labels_test, pred)\n",
    "    p_score_CP[x]=precision_score(labels_test, pred,labels=['CP'], average=None)\n",
    "    p_score_EL[x]=precision_score(labels_test, pred,labels=['EL'], average=None)\n",
    "    p_score_LN[x]=precision_score(labels_test, pred,labels=['LN'], average=None)\n",
    "    p_score_NE[x]=precision_score(labels_test, pred,labels=['NE'], average=None)\n",
    "    clf_score[x]=cross_val_score(clf, input_train, labels_train, cv=5).mean()\n",
    "\n",
    "    \n",
    "print('neural net')\n",
    "print('clf mean',np.mean(clf_score))\n",
    "print('clf max',np.max(clf_score))\n",
    "print('clf min',np.min(clf_score))\n",
    "\n",
    "print('acc mean',np.mean(a_score))\n",
    "print('acc max',np.max(a_score))\n",
    "print('acc min',np.min(a_score))\n",
    "\n",
    "print('CP mean',np.mean(p_score_CP))\n",
    "print('CP max',np.max(p_score_CP))\n",
    "print('CP min',np.min(p_score_CP))\n",
    "\n",
    "print('EL mean',np.mean(p_score_EL))\n",
    "print('EL max',np.max(p_score_EL))\n",
    "print('EL min',np.min(p_score_EL))\n",
    "\n",
    "print('LN mean',np.mean(p_score_LN))\n",
    "print('LN max',np.max(p_score_LN))\n",
    "print('LN min',np.min(p_score_LN))\n",
    "\n",
    "print('NE mean',np.mean(p_score_NE))\n",
    "print('NE max',np.max(p_score_NE))\n",
    "print('NE min',np.min(p_score_NE))"
   ]
  },
  {
   "cell_type": "code",
   "execution_count": null,
   "metadata": {},
   "outputs": [],
   "source": []
  }
 ],
 "metadata": {
  "kernelspec": {
   "display_name": "Python 3",
   "language": "python",
   "name": "python3"
  },
  "language_info": {
   "codemirror_mode": {
    "name": "ipython",
    "version": 3
   },
   "file_extension": ".py",
   "mimetype": "text/x-python",
   "name": "python",
   "nbconvert_exporter": "python",
   "pygments_lexer": "ipython3",
   "version": "3.6.11"
  }
 },
 "nbformat": 4,
 "nbformat_minor": 2
}
