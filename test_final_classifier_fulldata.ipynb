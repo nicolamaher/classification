{
 "cells": [
  {
   "cell_type": "code",
   "execution_count": 1,
   "metadata": {},
   "outputs": [],
   "source": [
    "# import build-in\n",
    "import numpy as np\n",
    "\n",
    "# import local\n",
    "import utility_classification_2 as ut_cla\n",
    "import labels_create_ENSO as labels"
   ]
  },
  {
   "cell_type": "code",
   "execution_count": 2,
   "metadata": {},
   "outputs": [],
   "source": [
    "path = '/home/nicola/Documents/classification_clean/data/input2/'\n",
    "\n",
    "#create dictionary with all input data\n",
    "dict_data_struc ={\n",
    "        1:{'filename' : 'ERSSTv3b.nc_regrid.nc_detrended.nc_deseason.nc_input2.nc',\n",
    "           'crop' : 42,\n",
    "           'firstmon' :10},\n",
    "        2:{'filename' : 'ERSSTv4.nc_regrid.nc_detrended.nc_deseason.nc_input2.nc',\n",
    "           'crop' :42,\n",
    "           'firstmon' :10},\n",
    "        3:{'filename' : 'ERSSTv5.nc_regrid.nc_detrended.nc_deseason.nc_input2.nc',\n",
    "           'crop' : 42,\n",
    "           'firstmon' :10},\n",
    "        4:{'filename' : 'COBESST2.nc_regrid.nc_detrended.nc_deseason.nc_input2.nc',\n",
    "           'crop' : 46,\n",
    "           'firstmon' :10},\n",
    "        5:{'filename' : 'COBEv1.nc_regrid.nc_detrended.nc_deseason.nc_input2.nc',\n",
    "           'crop' : 5,\n",
    "           'firstmon' :10},\n",
    "        6:{'filename' : 'GODAS_1980_2020_processed.nc_regrid.nc_detrended.nc_deseason.nc_input2.nc',\n",
    "           'crop' : 0,\n",
    "           'firstmon' :10},            \n",
    "        7:{'filename' : 'kaplan_sst.nc_regrid.nc_detrended.nc_deseason.nc_input2.nc',\n",
    "           'crop' : 40,\n",
    "           'firstmon' :10},           \n",
    "        8:{'filename' : 'GECCO2_processed2.nc_regrid.nc_detrended.nc_deseason.nc_input2.nc',\n",
    "           'crop' : 0,\n",
    "           'firstmon' :10},            \n",
    "        9:{'filename' : 'oisst-avhrr-v02r01__sst__monthly__UHAM-ICDC_198109_202004.nc_regrid.nc_detrended.nc_deseason.nc_input2.nc',\n",
    "           'crop' : 0,\n",
    "           'firstmon' :2},            \n",
    "        10:{'filename' : 'ORAS4_processed2.nc_regrid.nc_detrended.nc_deseason.nc_input2.nc',\n",
    "           'crop' : 0,\n",
    "           'firstmon' :10},\n",
    "        11:{'filename' : 'ORAs5_opa0_processed2.nc_regrid.nc_detrended.nc_deseason.nc_input2.nc',\n",
    "           'crop' : 0,\n",
    "           'firstmon' :10},   \n",
    "        12:{'filename' : 'ORAs5_opa1_processed2.nc_regrid.nc_detrended.nc_deseason.nc_input2.nc',\n",
    "           'crop' : 0,\n",
    "           'firstmon' :10},   \n",
    "        13:{'filename' : 'ORAs5_opa2_processed2.nc_regrid.nc_detrended.nc_deseason.nc_input2.nc',\n",
    "           'crop' : 0,\n",
    "           'firstmon' :10},   \n",
    "        14:{'filename' : 'ORAs5_opa3_processed2.nc_regrid.nc_detrended.nc_deseason.nc_input2.nc',\n",
    "           'crop' : 0,\n",
    "           'firstmon' :10},\n",
    "        15:{'filename' : 'ORAs5_opa4_processed2.nc_regrid.nc_detrended.nc_deseason.nc_input2.nc',\n",
    "           'crop' : 0,\n",
    "           'firstmon' :10},    \n",
    "        16:{'filename' : 'soda3.11.2_1980_2015_processed3.nc_regrid.nc_detrended.nc_deseason.nc_input2.nc',\n",
    "           'crop' : 0,\n",
    "           'firstmon' :10},    \n",
    "        17:{'filename' : 'soda3.12.2_1980_2017_processed3.nc_regrid.nc_detrended.nc_deseason.nc_input2.nc',\n",
    "           'crop' : 0,\n",
    "           'firstmon' :10},      \n",
    "        18:{'filename' : 'soda3.4.2_1980_2018_processed3.nc_regrid.nc_detrended.nc_deseason.nc_input2.nc',\n",
    "           'crop' : 0,\n",
    "           'firstmon' :10},    \n",
    "        19:{'filename' : 'soda3.6.1_1980_2009_processed3.nc_regrid.nc_detrended.nc_deseason.nc_input2.nc',\n",
    "           'crop' : 0,\n",
    "           'firstmon' :10},\n",
    "        20:{'filename' : 'soda3.7.2_1980_2016_processed3.nc_regrid.nc_detrended.nc_deseason.nc_input2.nc',\n",
    "           'crop' : 0,\n",
    "           'firstmon' :10},    \n",
    "        21:{'filename' : 'AMSRE_v07.nc_regrid.nc_detrended.nc_deseason.nc_input2.nc',\n",
    "           'crop' : 0,\n",
    "           'firstmon' :5},   \n",
    "        22:{'filename' : 'HadISST_sst.nc_regrid.nc_detrended.nc_deseason.nc_input2.nc',\n",
    "           'crop' : 26,\n",
    "           'firstmon' :10}\n",
    "                 }"
   ]
  },
  {
   "cell_type": "code",
   "execution_count": 3,
   "metadata": {},
   "outputs": [],
   "source": [
    "#process all data\n",
    "result = ut_cla.preprocess_from_dict(dict_data_struc, path, verbose=False)"
   ]
  },
  {
   "cell_type": "code",
   "execution_count": 4,
   "metadata": {},
   "outputs": [],
   "source": [
    "test=np.array(result[1])"
   ]
  },
  {
   "cell_type": "code",
   "execution_count": 5,
   "metadata": {},
   "outputs": [
    {
     "data": {
      "text/plain": [
       "(123, 21780)"
      ]
     },
     "execution_count": 5,
     "metadata": {},
     "output_type": "execute_result"
    }
   ],
   "source": [
    "test.shape"
   ]
  },
  {
   "cell_type": "code",
   "execution_count": 6,
   "metadata": {},
   "outputs": [
    {
     "data": {
      "text/plain": [
       "(1325, 21780)"
      ]
     },
     "execution_count": 6,
     "metadata": {},
     "output_type": "execute_result"
    }
   ],
   "source": [
    "#define data\n",
    "\n",
    "# Concatenate into the correct shape for the algorithm\n",
    "def concat_features(result, keys, axis=0):\n",
    "    list_= [result[key] for key in keys]\n",
    "    return np.concatenate(list_,axis=axis)\n",
    "\n",
    "keys=[1,2,3,4,5,6,7,8,9,10,11,12,13,14,15,16,17,18,19,20,21]\n",
    "input_train= concat_features(result, keys)\n",
    "\n",
    "input_train.shape"
   ]
  },
  {
   "cell_type": "code",
   "execution_count": 7,
   "metadata": {},
   "outputs": [
    {
     "data": {
      "text/plain": [
       "(123, 21780)"
      ]
     },
     "execution_count": 7,
     "metadata": {},
     "output_type": "execute_result"
    }
   ],
   "source": [
    "input_test=result[22]\n",
    "input_test.shape"
   ]
  },
  {
   "cell_type": "code",
   "execution_count": 8,
   "metadata": {},
   "outputs": [],
   "source": [
    "#create labels\n",
    "labels_train,labels_test=labels.create_labels()\n"
   ]
  },
  {
   "cell_type": "code",
   "execution_count": 9,
   "metadata": {},
   "outputs": [],
   "source": [
    "#import the machine learning tools\n",
    "\n",
    "import numpy as np\n",
    "import matplotlib.pyplot as plt\n",
    "from matplotlib.colors import ListedColormap\n",
    "from sklearn.model_selection import train_test_split\n",
    "from sklearn.preprocessing import StandardScaler\n",
    "from sklearn.datasets import make_moons, make_circles, make_classification\n",
    "from sklearn.neural_network import MLPClassifier\n",
    "from sklearn.neighbors import KNeighborsClassifier\n",
    "from sklearn.svm import SVC\n",
    "from sklearn.gaussian_process import GaussianProcessClassifier\n",
    "from sklearn.gaussian_process.kernels import RBF\n",
    "from sklearn.tree import DecisionTreeClassifier\n",
    "from sklearn.ensemble import RandomForestClassifier, AdaBoostClassifier\n",
    "from sklearn.naive_bayes import GaussianNB\n",
    "from sklearn.discriminant_analysis import QuadraticDiscriminantAnalysis\n",
    "from sklearn.model_selection import cross_val_score\n",
    "import joblib\n",
    "from sklearn.metrics import accuracy_score\n",
    "from sklearn.metrics import precision_score\n",
    "from itertools import product\n",
    "from sklearn.ensemble import VotingClassifier\n",
    "\n"
   ]
  },
  {
   "cell_type": "code",
   "execution_count": 10,
   "metadata": {
    "scrolled": true
   },
   "outputs": [],
   "source": [
    "#choose classifier and test range of results\n",
    "clf1 = KNeighborsClassifier(n_neighbors=1)\n",
    "clf2 = RandomForestClassifier(n_estimators=500, max_depth=500)\n",
    "clf3 = MLPClassifier(hidden_layer_sizes=(500, ), max_iter=900)\n",
    "\n",
    "clf = VotingClassifier(estimators=[('kn', clf1), ('rf', clf2), ('nn', clf3)], voting='soft')#, weights=[2, 1, 2])\n"
   ]
  },
  {
   "cell_type": "code",
   "execution_count": 11,
   "metadata": {},
   "outputs": [
    {
     "name": "stdout",
     "output_type": "stream",
     "text": [
      "acc 0.4715447154471545\n",
      "PCP [0.26923077]\n",
      "PEL [0.45]\n",
      "PLN [0.47826087]\n",
      "PNE [0.64516129]\n",
      "CVS 0.6566037735849056\n"
     ]
    }
   ],
   "source": [
    "clf.fit(input_train, labels_train)\n",
    "pred=clf.predict(input_test)\n",
    "print('acc',accuracy_score(labels_test, pred))\n",
    "print('PCP',precision_score(labels_test, pred,labels=['CP'], average=None))\n",
    "print('PEL',precision_score(labels_test, pred,labels=['EL'], average=None))\n",
    "print('PLN',precision_score(labels_test, pred,labels=['LN'], average=None))\n",
    "print('PNE',precision_score(labels_test, pred,labels=['NE'], average=None))\n",
    "print('CVS',cross_val_score(clf, input_train, labels_train, cv=5).mean())\n"
   ]
  },
  {
   "cell_type": "code",
   "execution_count": 12,
   "metadata": {},
   "outputs": [
    {
     "name": "stdout",
     "output_type": "stream",
     "text": [
      "acc 0.34959349593495936\n",
      "PCP [0.21212121]\n",
      "PEL [0.29032258]\n",
      "PLN [0.3]\n",
      "PNE [0.53846154]\n",
      "CVS 0.6060377358490566\n"
     ]
    }
   ],
   "source": [
    "#test KNN\n",
    "clf1.fit(input_train, labels_train)\n",
    "pred=clf1.predict(input_test)\n",
    "print('acc',accuracy_score(labels_test, pred))\n",
    "print('PCP',precision_score(labels_test, pred,labels=['CP'], average=None))\n",
    "print('PEL',precision_score(labels_test, pred,labels=['EL'], average=None))\n",
    "print('PLN',precision_score(labels_test, pred,labels=['LN'], average=None))\n",
    "print('PNE',precision_score(labels_test, pred,labels=['NE'], average=None))\n",
    "print('CVS',cross_val_score(clf1, input_train, labels_train, cv=5).mean())"
   ]
  },
  {
   "cell_type": "code",
   "execution_count": 13,
   "metadata": {},
   "outputs": [
    {
     "name": "stdout",
     "output_type": "stream",
     "text": [
      "acc 0.42276422764227645\n",
      "PCP [0.17857143]\n",
      "PEL [0.34285714]\n",
      "PLN [0.52941176]\n",
      "PNE [0.60465116]\n",
      "CVS 0.5562264150943397\n"
     ]
    }
   ],
   "source": [
    "#test nearest neighbours with n =4\n",
    "\n",
    "clf4 = KNeighborsClassifier(n_neighbors=10)\n",
    "clf4.fit(input_train, labels_train)\n",
    "pred=clf4.predict(input_test)\n",
    "print('acc',accuracy_score(labels_test, pred))\n",
    "print('PCP',precision_score(labels_test, pred,labels=['CP'], average=None))\n",
    "print('PEL',precision_score(labels_test, pred,labels=['EL'], average=None))\n",
    "print('PLN',precision_score(labels_test, pred,labels=['LN'], average=None))\n",
    "print('PNE',precision_score(labels_test, pred,labels=['NE'], average=None))\n",
    "print('CVS',cross_val_score(clf4, input_train, labels_train, cv=5).mean())"
   ]
  },
  {
   "cell_type": "code",
   "execution_count": 14,
   "metadata": {},
   "outputs": [
    {
     "name": "stdout",
     "output_type": "stream",
     "text": [
      "acc 0.8536585365853658\n",
      "PCP [0.75]\n",
      "PEL [0.95]\n",
      "PLN [0.9047619]\n",
      "PNE [0.82857143]\n",
      "CVS 0.901132075471698\n"
     ]
    }
   ],
   "source": [
    "#test RF\n",
    "clf2.fit(input_train, labels_train)\n",
    "pred=clf2.predict(input_test)\n",
    "print('acc',accuracy_score(labels_test, pred))\n",
    "print('PCP',precision_score(labels_test, pred,labels=['CP'], average=None))\n",
    "print('PEL',precision_score(labels_test, pred,labels=['EL'], average=None))\n",
    "print('PLN',precision_score(labels_test, pred,labels=['LN'], average=None))\n",
    "print('PNE',precision_score(labels_test, pred,labels=['NE'], average=None))\n",
    "print('CVS',cross_val_score(clf2, input_train, labels_train, cv=5).mean())"
   ]
  },
  {
   "cell_type": "code",
   "execution_count": 15,
   "metadata": {},
   "outputs": [
    {
     "name": "stdout",
     "output_type": "stream",
     "text": [
      "acc 0.10569105691056911\n",
      "PCP [0.10569106]\n",
      "PEL [0.]\n",
      "PLN [0.]\n",
      "PNE [0.]\n"
     ]
    },
    {
     "name": "stderr",
     "output_type": "stream",
     "text": [
      "/home/nicola/anaconda3/envs/classification/lib/python3.6/site-packages/sklearn/metrics/_classification.py:1221: UndefinedMetricWarning: Precision is ill-defined and being set to 0.0 due to no predicted samples. Use `zero_division` parameter to control this behavior.\n",
      "  _warn_prf(average, modifier, msg_start, len(result))\n"
     ]
    },
    {
     "name": "stdout",
     "output_type": "stream",
     "text": [
      "CVS 0.3041509433962264\n"
     ]
    }
   ],
   "source": [
    "#test neural net\n",
    "clf3.fit(input_train, labels_train)\n",
    "pred=clf3.predict(input_test)\n",
    "print('acc',accuracy_score(labels_test, pred))\n",
    "print('PCP',precision_score(labels_test, pred,labels=['CP'], average=None))\n",
    "print('PEL',precision_score(labels_test, pred,labels=['EL'], average=None))\n",
    "print('PLN',precision_score(labels_test, pred,labels=['LN'], average=None))\n",
    "print('PNE',precision_score(labels_test, pred,labels=['NE'], average=None))\n",
    "print('CVS',cross_val_score(clf3, input_train, labels_train, cv=5).mean())"
   ]
  },
  {
   "cell_type": "code",
   "execution_count": null,
   "metadata": {},
   "outputs": [],
   "source": []
  }
 ],
 "metadata": {
  "kernelspec": {
   "display_name": "Python 3",
   "language": "python",
   "name": "python3"
  },
  "language_info": {
   "codemirror_mode": {
    "name": "ipython",
    "version": 3
   },
   "file_extension": ".py",
   "mimetype": "text/x-python",
   "name": "python",
   "nbconvert_exporter": "python",
   "pygments_lexer": "ipython3",
   "version": "3.6.11"
  }
 },
 "nbformat": 4,
 "nbformat_minor": 2
}
